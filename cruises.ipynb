{
 "cells": [
  {
   "cell_type": "markdown",
   "metadata": {},
   "source": [
    "# Leaflet cluster map of talk locations\n",
    "\n",
    "Run this from the _talks/ directory, which contains .md files of all your talks. This scrapes the location YAML field from each .md file, geolocates it with geopy/Nominatim, and uses the getorg library to output data, HTML, and Javascript for a standalone cluster map."
   ]
  },
  {
   "cell_type": "code",
   "execution_count": 2,
   "metadata": {
    "collapsed": false,
    "jupyter": {
     "outputs_hidden": false
    }
   },
   "outputs": [
    {
     "name": "stdout",
     "output_type": "stream",
     "text": [
      "Requirement already satisfied: getorg in /opt/anaconda3/envs/sid_phd_current/lib/python3.7/site-packages (0.3.1)\n",
      "Requirement already satisfied: retrying in /opt/anaconda3/envs/sid_phd_current/lib/python3.7/site-packages (from getorg) (1.3.3)\n",
      "Requirement already satisfied: geopy in /opt/anaconda3/envs/sid_phd_current/lib/python3.7/site-packages (from getorg) (2.2.0)\n",
      "Requirement already satisfied: pygithub in /opt/anaconda3/envs/sid_phd_current/lib/python3.7/site-packages (from getorg) (1.55)\n",
      "Requirement already satisfied: geographiclib<2,>=1.49 in /opt/anaconda3/envs/sid_phd_current/lib/python3.7/site-packages (from geopy->getorg) (1.52)\n",
      "Requirement already satisfied: pynacl>=1.4.0 in /opt/anaconda3/envs/sid_phd_current/lib/python3.7/site-packages (from pygithub->getorg) (1.5.0)\n",
      "Requirement already satisfied: pyjwt>=2.0 in /opt/anaconda3/envs/sid_phd_current/lib/python3.7/site-packages (from pygithub->getorg) (2.4.0)\n",
      "Requirement already satisfied: requests>=2.14.0 in /opt/anaconda3/envs/sid_phd_current/lib/python3.7/site-packages (from pygithub->getorg) (2.27.1)\n",
      "Requirement already satisfied: deprecated in /opt/anaconda3/envs/sid_phd_current/lib/python3.7/site-packages (from pygithub->getorg) (1.2.13)\n",
      "Requirement already satisfied: six>=1.7.0 in /opt/anaconda3/envs/sid_phd_current/lib/python3.7/site-packages (from retrying->getorg) (1.16.0)\n",
      "Requirement already satisfied: cffi>=1.4.1 in /opt/anaconda3/envs/sid_phd_current/lib/python3.7/site-packages (from pynacl>=1.4.0->pygithub->getorg) (1.15.0)\n",
      "Requirement already satisfied: certifi>=2017.4.17 in /opt/anaconda3/envs/sid_phd_current/lib/python3.7/site-packages (from requests>=2.14.0->pygithub->getorg) (2022.6.15)\n",
      "Requirement already satisfied: charset-normalizer~=2.0.0 in /opt/anaconda3/envs/sid_phd_current/lib/python3.7/site-packages (from requests>=2.14.0->pygithub->getorg) (2.0.11)\n",
      "Requirement already satisfied: idna<4,>=2.5 in /opt/anaconda3/envs/sid_phd_current/lib/python3.7/site-packages (from requests>=2.14.0->pygithub->getorg) (3.3)\n",
      "Requirement already satisfied: urllib3<1.27,>=1.21.1 in /opt/anaconda3/envs/sid_phd_current/lib/python3.7/site-packages (from requests>=2.14.0->pygithub->getorg) (1.26.8)\n",
      "Requirement already satisfied: wrapt<2,>=1.10 in /opt/anaconda3/envs/sid_phd_current/lib/python3.7/site-packages (from deprecated->pygithub->getorg) (1.14.1)\n",
      "Requirement already satisfied: pycparser in /opt/anaconda3/envs/sid_phd_current/lib/python3.7/site-packages (from cffi>=1.4.1->pynacl>=1.4.0->pygithub->getorg) (2.21)\n",
      "Iywidgets and ipyleaflet support disabled. You must be in a Jupyter notebook to use this feature.\n",
      "Error raised:\n",
      "No module named 'ipywidgets'\n",
      "Check that you have enabled ipyleaflet in Jupyter with:\n",
      "    jupyter nbextension enable --py ipyleaflet\n"
     ]
    }
   ],
   "source": [
    "!pip install getorg --upgrade\n",
    "import glob\n",
    "import getorg\n",
    "from geopy import Nominatim"
   ]
  },
  {
   "cell_type": "code",
   "execution_count": 3,
   "metadata": {
    "collapsed": false,
    "jupyter": {
     "outputs_hidden": false
    }
   },
   "outputs": [],
   "source": [
    "g = glob.glob(\"/Users/skerhalkar/Documents/Github sharing/sidkerhalkar.github.io/_cruises/*.md\")"
   ]
  },
  {
   "cell_type": "code",
   "execution_count": 4,
   "metadata": {},
   "outputs": [
    {
     "data": {
      "text/plain": [
       "['/Users/skerhalkar/Documents/Github sharing/sidkerhalkar.github.io/_cruises/2014-03-01-talk-3.md',\n",
       " '/Users/skerhalkar/Documents/Github sharing/sidkerhalkar.github.io/_cruises/2014-02-01-talk-2.md',\n",
       " '/Users/skerhalkar/Documents/Github sharing/sidkerhalkar.github.io/_cruises/2013-03-01-tutorial-1.md',\n",
       " '/Users/skerhalkar/Documents/Github sharing/sidkerhalkar.github.io/_cruises/2012-03-01-talk-1.md']"
      ]
     },
     "execution_count": 4,
     "metadata": {},
     "output_type": "execute_result"
    }
   ],
   "source": [
    "g"
   ]
  },
  {
   "cell_type": "code",
   "execution_count": 5,
   "metadata": {
    "tags": []
   },
   "outputs": [],
   "source": [
    "geocoder = Nominatim(user_agent=\"http\")\n",
    "location_dict = {}\n",
    "location = \"\"\n",
    "permalink = \"\"\n",
    "title = \"\""
   ]
  },
  {
   "cell_type": "code",
   "execution_count": 6,
   "metadata": {
    "collapsed": false,
    "jupyter": {
     "outputs_hidden": false
    }
   },
   "outputs": [
    {
     "name": "stdout",
     "output_type": "stream",
     "text": [
      "Los Angeles, CA \n",
      " Los Angeles, Los Angeles County, California, United States\n",
      "London, UK \n",
      " London, Greater London, England, United Kingdom\n",
      "Berkeley CA, USA \n",
      " University of California, Berkeley, Norfolk Road, Oakland, Alameda County, California, 94618, United States\n",
      "Hyderabad, India \n",
      " Hyderabad, Bahadurpura mandal, Hyderabad, Telangana, India\n"
     ]
    }
   ],
   "source": [
    "\n",
    "for file in g:\n",
    "    with open(file, 'r') as f:\n",
    "        lines = f.read()\n",
    "        if lines.find('location: \"') > 1:\n",
    "            loc_start = lines.find('location: \"') + 11\n",
    "            lines_trim = lines[loc_start:]\n",
    "            loc_end = lines_trim.find('\"')\n",
    "            location = lines_trim[:loc_end]\n",
    "                            \n",
    "           \n",
    "        location_dict[location] = geocoder.geocode(location)\n",
    "        print(location, \"\\n\", location_dict[location])\n"
   ]
  },
  {
   "cell_type": "code",
   "execution_count": 7,
   "metadata": {},
   "outputs": [
    {
     "data": {
      "text/plain": [
       "{'Los Angeles, CA': Location(Los Angeles, Los Angeles County, California, United States, (34.0536909, -118.242766, 0.0)),\n",
       " 'London, UK': Location(London, Greater London, England, United Kingdom, (51.5073219, -0.1276474, 0.0)),\n",
       " 'Berkeley CA, USA': Location(University of California, Berkeley, Norfolk Road, Oakland, Alameda County, California, 94618, United States, (37.8753497, -122.23963364918777, 0.0)),\n",
       " 'Hyderabad, India': Location(Hyderabad, Bahadurpura mandal, Hyderabad, Telangana, India, (17.360589, 78.4740613, 0.0))}"
      ]
     },
     "execution_count": 7,
     "metadata": {},
     "output_type": "execute_result"
    }
   ],
   "source": [
    "location_dict"
   ]
  },
  {
   "cell_type": "code",
   "execution_count": 9,
   "metadata": {
    "collapsed": false,
    "jupyter": {
     "outputs_hidden": false
    }
   },
   "outputs": [
    {
     "data": {
      "text/plain": [
       "'Written map to /Users/skerhalkar/Documents/Github sharing/sidkerhalkar.github.io/cruisemap/'"
      ]
     },
     "execution_count": 9,
     "metadata": {},
     "output_type": "execute_result"
    }
   ],
   "source": [
    "m = getorg.orgmap.create_map_obj()\n",
    "getorg.orgmap.output_html_cluster_map(location_dict, folder_name=\"/Users/skerhalkar/Documents/Github sharing/sidkerhalkar.github.io/cruisemap\", hashed_usernames=False)"
   ]
  },
  {
   "cell_type": "code",
   "execution_count": null,
   "metadata": {
    "collapsed": true,
    "jupyter": {
     "outputs_hidden": true
    }
   },
   "outputs": [],
   "source": []
  }
 ],
 "metadata": {
  "anaconda-cloud": {},
  "kernelspec": {
   "display_name": "sid_phd_current",
   "language": "python",
   "name": "sid_phd_current"
  },
  "language_info": {
   "codemirror_mode": {
    "name": "ipython",
    "version": 3
   },
   "file_extension": ".py",
   "mimetype": "text/x-python",
   "name": "python",
   "nbconvert_exporter": "python",
   "pygments_lexer": "ipython3",
   "version": "3.7.12"
  }
 },
 "nbformat": 4,
 "nbformat_minor": 4
}
