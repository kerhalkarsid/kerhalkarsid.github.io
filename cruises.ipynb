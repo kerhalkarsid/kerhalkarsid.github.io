{
 "cells": [
  {
   "cell_type": "markdown",
   "metadata": {},
   "source": [
    "# Leaflet cluster map of talk locations\n",
    "\n",
    "Run this from the _talks/ directory, which contains .md files of all your talks. This scrapes the location YAML field from each .md file, geolocates it with geopy/Nominatim, and uses the getorg library to output data, HTML, and Javascript for a standalone cluster map."
   ]
  },
  {
   "cell_type": "code",
   "execution_count": 1,
   "metadata": {
    "collapsed": false,
    "jupyter": {
     "outputs_hidden": false
    }
   },
   "outputs": [
    {
     "name": "stdout",
     "output_type": "stream",
     "text": [
      "Collecting getorg\n",
      "  Downloading https://files.pythonhosted.org/packages/d8/81/842a17df2892d8f357929a3a937d30f36bd11998b31b75e663515e24bf50/getorg-0.3.1-py2.py3-none-any.whl\n",
      "Collecting geopy (from getorg)\n",
      "\u001b[?25l  Downloading https://files.pythonhosted.org/packages/e5/15/cf2a69ade4b194aa524ac75112d5caac37414b20a3a03e6865dfe0bd1539/geopy-2.4.1-py3-none-any.whl (125kB)\n",
      "\u001b[K     |████████████████████████████████| 133kB 23.5MB/s eta 0:00:01\n",
      "\u001b[?25hCollecting retrying (from getorg)\n",
      "  Downloading https://files.pythonhosted.org/packages/8f/04/9e36f28be4c0532c0e9207ff9dc01fb13a2b0eb036476a213b0000837d0e/retrying-1.3.4-py3-none-any.whl\n",
      "Collecting pygithub (from getorg)\n",
      "\u001b[?25l  Downloading https://files.pythonhosted.org/packages/84/2a/f7f72a06881493eeb763c207bea69f9ee4477c78200937b22b8b79f3acf9/PyGithub-2.3.0-py3-none-any.whl (354kB)\n",
      "\u001b[K     |████████████████████████████████| 358kB 92.4MB/s eta 0:00:01\n",
      "\u001b[?25hCollecting geographiclib<3,>=1.52 (from geopy->getorg)\n",
      "\u001b[?25l  Downloading https://files.pythonhosted.org/packages/9f/5a/a26132406f1f40cf51ea349a5f11b0a46cec02a2031ff82e391c2537247a/geographiclib-2.0-py3-none-any.whl (40kB)\n",
      "\u001b[K     |████████████████████████████████| 40kB 7.0MB/s eta 0:00:01\n",
      "\u001b[?25hRequirement already satisfied, skipping upgrade: six>=1.7.0 in /opt/anaconda3/lib/python3.7/site-packages (from retrying->getorg) (1.12.0)\n",
      "Requirement already satisfied, skipping upgrade: requests>=2.14.0 in /opt/anaconda3/lib/python3.7/site-packages (from pygithub->getorg) (2.22.0)\n",
      "Collecting pyjwt[crypto]>=2.4.0 (from pygithub->getorg)\n",
      "  Downloading https://files.pythonhosted.org/packages/2b/4f/e04a8067c7c96c364cef7ef73906504e2f40d690811c021e1a1901473a19/PyJWT-2.8.0-py3-none-any.whl\n",
      "Collecting pynacl>=1.4.0 (from pygithub->getorg)\n",
      "\u001b[?25l  Downloading https://files.pythonhosted.org/packages/a7/22/27582568be639dfe22ddb3902225f91f2f17ceff88ce80e4db396c8986da/PyNaCl-1.5.0.tar.gz (3.4MB)\n",
      "\u001b[K     |████████████████████████████████| 3.4MB 63.3MB/s eta 0:00:01\n",
      "\u001b[?25h  Installing build dependencies ... \u001b[?25ldone\n",
      "\u001b[?25h  Getting requirements to build wheel ... \u001b[?25ldone\n",
      "\u001b[?25h    Preparing wheel metadata ... \u001b[?25ldone\n",
      "\u001b[?25hCollecting typing-extensions>=4.0.0 (from pygithub->getorg)\n",
      "  Downloading https://files.pythonhosted.org/packages/ec/6b/63cc3df74987c36fe26157ee12e09e8f9db4de771e0f3404263117e75b95/typing_extensions-4.7.1-py3-none-any.whl\n",
      "Collecting urllib3>=1.26.0 (from pygithub->getorg)\n",
      "\u001b[?25l  Downloading https://files.pythonhosted.org/packages/d2/b2/b157855192a68541a91ba7b2bbcb91f1b4faa51f8bae38d8005c034be524/urllib3-2.0.7-py3-none-any.whl (124kB)\n",
      "\u001b[K     |████████████████████████████████| 133kB 94.1MB/s eta 0:00:01\n",
      "\u001b[?25hCollecting Deprecated (from pygithub->getorg)\n",
      "  Downloading https://files.pythonhosted.org/packages/1d/8f/c7f227eb42cfeaddce3eb0c96c60cbca37797fa7b34f8e1aeadf6c5c0983/Deprecated-1.2.15-py2.py3-none-any.whl\n",
      "Requirement already satisfied, skipping upgrade: certifi>=2017.4.17 in /opt/anaconda3/lib/python3.7/site-packages (from requests>=2.14.0->pygithub->getorg) (2019.9.11)\n",
      "Requirement already satisfied, skipping upgrade: chardet<3.1.0,>=3.0.2 in /opt/anaconda3/lib/python3.7/site-packages (from requests>=2.14.0->pygithub->getorg) (3.0.4)\n",
      "Requirement already satisfied, skipping upgrade: idna<2.9,>=2.5 in /opt/anaconda3/lib/python3.7/site-packages (from requests>=2.14.0->pygithub->getorg) (2.8)\n",
      "Collecting cryptography>=3.4.0; extra == \"crypto\" (from pyjwt[crypto]>=2.4.0->pygithub->getorg)\n",
      "\u001b[?25l  Downloading https://files.pythonhosted.org/packages/91/4c/45dfa6829acffa344e3967d6006ee4ae8be57af746ae2eba1c431949b32c/cryptography-44.0.0.tar.gz (710kB)\n",
      "\u001b[K     |████████████████████████████████| 716kB 49.7MB/s eta 0:00:01\n",
      "\u001b[31mERROR: Exception:\n",
      "Traceback (most recent call last):\n",
      "  File \"/opt/anaconda3/lib/python3.7/site-packages/pip/_internal/cli/base_command.py\", line 188, in main\n",
      "    status = self.run(options, args)\n",
      "  File \"/opt/anaconda3/lib/python3.7/site-packages/pip/_internal/commands/install.py\", line 345, in run\n",
      "    resolver.resolve(requirement_set)\n",
      "  File \"/opt/anaconda3/lib/python3.7/site-packages/pip/_internal/legacy_resolve.py\", line 196, in resolve\n",
      "    self._resolve_one(requirement_set, req)\n",
      "  File \"/opt/anaconda3/lib/python3.7/site-packages/pip/_internal/legacy_resolve.py\", line 359, in _resolve_one\n",
      "    abstract_dist = self._get_abstract_dist_for(req_to_install)\n",
      "  File \"/opt/anaconda3/lib/python3.7/site-packages/pip/_internal/legacy_resolve.py\", line 307, in _get_abstract_dist_for\n",
      "    self.require_hashes\n",
      "  File \"/opt/anaconda3/lib/python3.7/site-packages/pip/_internal/operations/prepare.py\", line 215, in prepare_linked_requirement\n",
      "    finder, self.build_isolation,\n",
      "  File \"/opt/anaconda3/lib/python3.7/site-packages/pip/_internal/distributions/source.py\", line 30, in prepare_distribution_metadata\n",
      "    self.req.load_pyproject_toml()\n",
      "  File \"/opt/anaconda3/lib/python3.7/site-packages/pip/_internal/req/req_install.py\", line 505, in load_pyproject_toml\n",
      "    str(self)\n",
      "  File \"/opt/anaconda3/lib/python3.7/site-packages/pip/_internal/pyproject.py\", line 66, in load_pyproject_toml\n",
      "    pp_toml = pytoml.load(f)\n",
      "  File \"/opt/anaconda3/lib/python3.7/site-packages/pip/_vendor/pytoml/parser.py\", line 11, in load\n",
      "    return loads(fin.read(), translate=translate, object_pairs_hook=object_pairs_hook, filename=getattr(fin, 'name', repr(fin)))\n",
      "  File \"/opt/anaconda3/lib/python3.7/site-packages/pip/_vendor/pytoml/parser.py\", line 24, in loads\n",
      "    ast = _p_toml(src, object_pairs_hook=object_pairs_hook)\n",
      "  File \"/opt/anaconda3/lib/python3.7/site-packages/pip/_vendor/pytoml/parser.py\", line 340, in _p_toml\n",
      "    s.expect_eof()\n",
      "  File \"/opt/anaconda3/lib/python3.7/site-packages/pip/_vendor/pytoml/parser.py\", line 125, in expect_eof\n",
      "    return self._expect(self.consume_eof())\n",
      "  File \"/opt/anaconda3/lib/python3.7/site-packages/pip/_vendor/pytoml/parser.py\", line 165, in _expect\n",
      "    raise TomlError('msg', self._pos[0], self._pos[1], self._filename)\n",
      "pip._vendor.pytoml.core.TomlError: /private/var/folders/r8/n4yz1px57cgbm9jht0_2zns912mlvw/T/pip-install-zmjdvr7q/cryptography/pyproject.toml(173, 1): msg\u001b[0m\n",
      "\u001b[?25hIywidgets and ipyleaflet support disabled. You must be in a Jupyter notebook to use this feature.\n",
      "Error raised:\n",
      "No module named 'ipywidgets'\n",
      "Check that you have enabled ipyleaflet in Jupyter with:\n",
      "    jupyter nbextension enable --py ipyleaflet\n"
     ]
    }
   ],
   "source": [
    "!pip install getorg --upgrade\n",
    "import glob\n",
    "import getorg\n",
    "from geopy import Nominatim"
   ]
  },
  {
   "cell_type": "code",
   "execution_count": 2,
   "metadata": {
    "collapsed": false,
    "jupyter": {
     "outputs_hidden": false
    }
   },
   "outputs": [],
   "source": [
    "g = glob.glob(\"/Users/skerhalkar/Documents/Github sharing/sidkerhalkar.github.io/_cruises/*.md\")"
   ]
  },
  {
   "cell_type": "code",
   "execution_count": 3,
   "metadata": {},
   "outputs": [
    {
     "data": {
      "text/plain": [
       "['/Users/skerhalkar/Documents/Github sharing/sidkerhalkar.github.io/_cruises/2013-03-01-cruise-1.md',\n",
       " '/Users/skerhalkar/Documents/Github sharing/sidkerhalkar.github.io/_cruises/2012-03-01-cruise-1.md',\n",
       " '/Users/skerhalkar/Documents/Github sharing/sidkerhalkar.github.io/_cruises/2014-02-01-cruise-2.md',\n",
       " '/Users/skerhalkar/Documents/Github sharing/sidkerhalkar.github.io/_cruises/2014-03-01-cruise-3.md']"
      ]
     },
     "execution_count": 3,
     "metadata": {},
     "output_type": "execute_result"
    }
   ],
   "source": [
    "g"
   ]
  },
  {
   "cell_type": "code",
   "execution_count": 4,
   "metadata": {
    "tags": []
   },
   "outputs": [],
   "source": [
    "geocoder = Nominatim(user_agent=\"http\")\n",
    "location_dict = {}\n",
    "location = \"\"\n",
    "permalink = \"\"\n",
    "title = \"\""
   ]
  },
  {
   "cell_type": "code",
   "execution_count": 5,
   "metadata": {
    "collapsed": false,
    "jupyter": {
     "outputs_hidden": false
    }
   },
   "outputs": [
    {
     "name": "stdout",
     "output_type": "stream",
     "text": [
      "Berkeley CA, USA \n",
      " Berkeley, Alameda County, California, United States\n",
      "Hyderabad, India \n",
      " Hyderabad, Bahadurpura mandal, Hyderabad, Telangana, India\n",
      "London, UK \n",
      " London, Greater London, England, United Kingdom\n",
      "Los Angeles, CA \n",
      " Los Angeles, Los Angeles County, California, United States\n"
     ]
    }
   ],
   "source": [
    "\n",
    "for file in g:\n",
    "    with open(file, 'r') as f:\n",
    "        lines = f.read()\n",
    "        if lines.find('location: \"') > 1:\n",
    "            loc_start = lines.find('location: \"') + 11\n",
    "            lines_trim = lines[loc_start:]\n",
    "            loc_end = lines_trim.find('\"')\n",
    "            location = lines_trim[:loc_end]\n",
    "                            \n",
    "           \n",
    "        location_dict[location] = geocoder.geocode(location)\n",
    "        print(location, \"\\n\", location_dict[location])\n"
   ]
  },
  {
   "cell_type": "code",
   "execution_count": 6,
   "metadata": {},
   "outputs": [
    {
     "data": {
      "text/plain": [
       "{'Berkeley CA, USA': Location(Berkeley, Alameda County, California, United States, (37.8708393, -122.272863, 0.0)),\n",
       " 'Hyderabad, India': Location(Hyderabad, Bahadurpura mandal, Hyderabad, Telangana, India, (17.360589, 78.4740613, 0.0)),\n",
       " 'London, UK': Location(London, Greater London, England, United Kingdom, (51.4893335, -0.14405508452768728, 0.0)),\n",
       " 'Los Angeles, CA': Location(Los Angeles, Los Angeles County, California, United States, (34.0536909, -118.242766, 0.0))}"
      ]
     },
     "execution_count": 6,
     "metadata": {},
     "output_type": "execute_result"
    }
   ],
   "source": [
    "location_dict"
   ]
  },
  {
   "cell_type": "code",
   "execution_count": 7,
   "metadata": {
    "collapsed": false,
    "jupyter": {
     "outputs_hidden": false
    }
   },
   "outputs": [
    {
     "data": {
      "text/plain": [
       "'Written map to /Users/skerhalkar/Documents/Github sharing/sidkerhalkar.github.io/cruisemap/'"
      ]
     },
     "execution_count": 7,
     "metadata": {},
     "output_type": "execute_result"
    }
   ],
   "source": [
    "m = getorg.orgmap.create_map_obj()\n",
    "getorg.orgmap.output_html_cluster_map(location_dict, folder_name=\"/Users/skerhalkar/Documents/Github sharing/sidkerhalkar.github.io/cruisemap\", hashed_usernames=False)"
   ]
  },
  {
   "cell_type": "code",
   "execution_count": null,
   "metadata": {
    "collapsed": true,
    "jupyter": {
     "outputs_hidden": true
    }
   },
   "outputs": [],
   "source": []
  }
 ],
 "metadata": {
  "anaconda-cloud": {},
  "kernelspec": {
   "display_name": "sid_phd_current",
   "language": "python",
   "name": "sid_phd_current"
  },
  "language_info": {
   "codemirror_mode": {
    "name": "ipython",
    "version": 3
   },
   "file_extension": ".py",
   "mimetype": "text/x-python",
   "name": "python",
   "nbconvert_exporter": "python",
   "pygments_lexer": "ipython3",
   "version": "3.7.12"
  }
 },
 "nbformat": 4,
 "nbformat_minor": 4
}
